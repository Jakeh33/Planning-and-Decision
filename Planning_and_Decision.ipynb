{
  "nbformat": 4,
  "nbformat_minor": 0,
  "metadata": {
    "colab": {
      "name": "Planning and Decision.ipynb",
      "provenance": [],
      "collapsed_sections": [
        "OdiKPp604FZQ",
        "Zozs_nk24JIN",
        "rsSwLBm_guJ1",
        "A9yUbu3L31Wi",
        "kpO8L5RXpaCe",
        "Xus24fbMzmdQ",
        "kQtMZYj4z8SY",
        "3HFsjwIavLUs",
        "54JOfBYE1mFB"
      ],
      "toc_visible": true,
      "authorship_tag": "ABX9TyNffieVtZ285dR9kzu2KQ/B",
      "include_colab_link": true
    },
    "kernelspec": {
      "name": "python3",
      "display_name": "Python 3"
    },
    "language_info": {
      "name": "python"
    }
  },
  "cells": [
    {
      "cell_type": "markdown",
      "metadata": {
        "id": "view-in-github",
        "colab_type": "text"
      },
      "source": [
        "<a href=\"https://colab.research.google.com/github/Jakeh33/Planning-and-Decision/blob/main/Planning_and_Decision.ipynb\" target=\"_parent\"><img src=\"https://colab.research.google.com/assets/colab-badge.svg\" alt=\"Open In Colab\"/></a>"
      ]
    },
    {
      "cell_type": "markdown",
      "metadata": {
        "id": "A45fmESHh0TM"
      },
      "source": [
        "# 规划算法\n",
        "\n",
        "---\n",
        "《Planning Algorithm》- Steven M. LaValle\n",
        "- [online](http://lavalle.pl/planning/book.html)\n",
        "\n"
      ]
    },
    {
      "cell_type": "markdown",
      "metadata": {
        "id": "nsyl0eoM4Ujs"
      },
      "source": [
        "# 基本资料介绍"
      ]
    },
    {
      "cell_type": "markdown",
      "metadata": {
        "id": "T5zhxhQvjL27"
      },
      "source": [
        "## 前言绪论\n",
        "- 运动策略库 [MSL](http://lavalle.pl/msl/)\n",
        "- 相关材料 \n",
        "  - [Planning Algorithm](http://lavalle.pl/planning/)\n",
        "\n",
        "\n"
      ]
    },
    {
      "cell_type": "markdown",
      "metadata": {
        "id": "OdiKPp604FZQ"
      },
      "source": [
        "### 1.1 规划（过程 $\\to$ 结果）\n",
        "- 机器人运动规划：通常忽略动力学和其他各种微分约束，主要关注物体的平动和转动\n",
        "- 机器人轨迹规划：应用机器人运动规划算法的解及确定如何以遵守机械限制的方式沿着规划解移动\n",
        "- 控制理论运动规划：构建非线性动力系统的输入，驱动系统从初始状态移动到目标位置\n",
        "- 人工智能规划：更倾向于离散问题，解决类似魔方、拼图、积木等任务。通过定义有限行动集，应用于离散状态集合，通过给出相应的行动序列构造解\n",
        " \n"
      ]
    },
    {
      "cell_type": "markdown",
      "metadata": {
        "id": "Zozs_nk24JIN"
      },
      "source": [
        "### 1.3 基本组成\n",
        "- 状态：状态空间的大小（状态量个数）多数情况下很大导致无法显示表达\n",
        "- 时间：规划问题设计随时间进行的决策序列\n",
        "- 行动：规划产生对状态进行操作的行动（输入/控制）\n",
        "- 初始和目标状态\n",
        "- 准则：根据状态及行动编码一个规划的期望结果\n",
        "  - 可行性：寻找能够到达目标状态的规划\n",
        "  - 最优性：可行的基础上满足某种最优指标\n",
        "- 规划：开环（时间序列），闭环（状态相关的函数），如果不能反馈状态，需要根据目前可用的信息推导状态（信息状态）"
      ]
    },
    {
      "cell_type": "markdown",
      "metadata": {
        "id": "4BXFVz3trNPM"
      },
      "source": [
        "## 离散规划\n",
        "最简单的规划问题，状态空间有限或可数无线，因此不需要几何模型或者微分方程来描述离散规划问题，且不考虑不确定性。即所有模型完全可知和可预测。"
      ]
    },
    {
      "cell_type": "markdown",
      "metadata": {
        "id": "l66k6NcDgoNN"
      },
      "source": [
        "### 2.1 离散可行规划简介\n",
        "- 可行规划问题可以被阐述为确定是否存在一个输入序列使得有限状态机最终报告一个所需状态。"
      ]
    },
    {
      "cell_type": "markdown",
      "metadata": {
        "id": "rsSwLBm_guJ1"
      },
      "source": [
        "#### 2.1.1 问题表述\n",
        "- 所有可能的状态x的几个称为状态空间X，对于离线规划，重要的是集合可数\n",
        "- 状态转移函数$x' = f(x,u)$，行动$u \\in U(x)$作用于当前状态x后产生新状态x'\n",
        "- 规划的目的就是找到一个有限行动序列将初始状态变换到目标状态\n",
        "- 可以将状态和行动组合形成**状态转移图(state transition graph)**\n",
        "\n"
      ]
    },
    {
      "cell_type": "markdown",
      "metadata": {
        "id": "cRdCDsberjkv"
      },
      "source": [
        "#### 2.1.2 实例\n",
        "例2.1 二维栅格运动\n",
        "- 状态$x=(i,j)$，坐标位置\n",
        "- 行动$U =\\{(\\pm 1,0),(0,\\pm1)\\}$\n",
        "- 状态转移$f(x,u) = x+u$\n",
        "- 如果增加阴影，表示障碍，即构建出迷宫\n",
        "\n",
        "例2.2 魔方\n",
        "- 状态空间：位置颜色的组合几何\n",
        "- 行动：12个可能\n",
        "- 任务：找到行动序列返回同色状态\n",
        "\n"
      ]
    },
    {
      "cell_type": "markdown",
      "metadata": {
        "id": "G0jhyAjR3xPR"
      },
      "source": [
        "### 2.2 可行规划的搜索\n",
        "图搜索算法，能够跟踪已经访问过的状态并访问所有可达状态，并且无多余探索过程，递增构建搜索图$\\mathcal G(V,E)$\n",
        "\n",
        "基本步骤：\n",
        "1. 初始化：E为空，V包含一些初始状态\n",
        "2. 选择顶点：为扩展选择一个顶点$x_{cur}$（通过保持优先级队列）\n",
        "3. 应用行动：得到一个新状态$x_{new}$\n",
        "4. 向图中插入一条有向边：\n",
        "5. 检查解：确定$\\mathcal G$是否编码了一条从起点到终点的路径\n",
        "6. 返回第2步\n"
      ]
    },
    {
      "cell_type": "markdown",
      "metadata": {
        "id": "A9yUbu3L31Wi"
      },
      "source": [
        "#### 2.2.1 一般前向搜索\n",
        "- 未访问：初始时除初始状态外全部为未访问\n",
        "- 不活动：已访问及下一个可能的状态均为不活动（对搜索不再产生贡献）\n",
        "- 活动的(Q)：已经遇见的和一些未访问的相邻状态\n",
        "\n",
        "通用伪代码模板\n",
        "```\n",
        "Q.insert(x_i) and mark x_i as visited\n",
        "while Q is not empty do \n",
        "  Q.getFirst() -> x\n",
        "  if x in X_goal:\n",
        "    return Success\n",
        "  for u in U(x):\n",
        "    x' = f(x,u)\n",
        "    ## 指针序列 x' -> x,构建规划序列 \n",
        "    if x' not visited :\n",
        "      mark x' as visited\n",
        "      Q.insert(x')\n",
        "    esle:\n",
        "      Resolve duplicate x'\n",
        "return Failure\n",
        "```\n",
        "- Q保存活动的状态，各种**搜索算法明显的区别在于采用不同的函数对Q进行排序**。\n",
        "- 最简单的方式：先进先出队列\n",
        "- 上述代码仅确定是否存在解，没有给出规划"
      ]
    },
    {
      "cell_type": "markdown",
      "metadata": {
        "id": "LqWDbAmCo8nW"
      },
      "source": [
        "#### 2.2.2 特殊前向搜索"
      ]
    },
    {
      "cell_type": "markdown",
      "metadata": {
        "id": "kpO8L5RXpaCe"
      },
      "source": [
        "##### 广度优先（breadth-first search）\n",
        "- 先进先出队列\n",
        "- 搜索边界一致扩大\n",
        "- 保证发现的第一个解使用的步数最小\n"
      ]
    },
    {
      "cell_type": "markdown",
      "metadata": {
        "id": "Xus24fbMzmdQ"
      },
      "source": [
        "##### 深度优先（depth-first search）\n",
        "- 后进先出的栈"
      ]
    },
    {
      "cell_type": "markdown",
      "metadata": {
        "id": "kQtMZYj4z8SY"
      },
      "source": [
        "##### Dijkstra算法\n",
        "- 寻找图中单源最短路径\n",
        "- 动态规划的一种特殊形式\n",
        "- 假设图中的每条边都有一个相应的非负代价$l(e)$，是应用行动所付出的代价，可以用$l(x,u)$表示，代表从状态x应用行动u产生的代价。\n",
        "- 优先级队列Q按照已付代价和C升序：对每个状态x，值$C^*(x)$为从初始状态x_i到x产生的最优已付代价。\n",
        "- 重复遇到某状态x'，如果已在Q队列中，比较代价值C，如果更新后需要重新排序。\n",
        "- 当x'从Q中移除，该状态变为不活动，可以确定最优$C^*$\n",
        "- 为什么说队列第一个元素必然是最优？：\n",
        "  - 由于元素在Q中是按照代价升序排列，而想要达到第一个元素的其他路径必将经过其他状态，而其他状态的代价值必然有更大的代价。\n",
        "- 假设用Fibonacci堆来实现，运行时间$O(|V|lg|V|+|E|)，|V|,|E|$分别对应图论表示的顶点和边的数量\n"
      ]
    },
    {
      "cell_type": "markdown",
      "metadata": {
        "id": "3HFsjwIavLUs"
      },
      "source": [
        "##### A*\n",
        "- Dijkstra的扩展，通过对从给定状态到目标状态的代价进行启发式估计，试图减少所需探索状态的数量。\n",
        "- C(x)是从$x_i \\to x$的已付代价，G(x)表示从$x \\to x_g$的尚需代价。\n",
        "- 可用动态规划法递增地计算$C^*(x)$，但是无法提前知道真正的最优尚需代价\n",
        "- 在某些应用场景中可以构建一个合理的估计代价，如迷宫\n",
        "- 假设代价就是总步数，$(i,j) \\to (i',j')$的估计值$|i'-i|+|j'-j|$，不考虑障碍物。\n",
        "- 目的是计算一个尽可能接近最优尚需代价值的估计值，并且保证不大于最优尚需代价值，记为$\\hat G^*(x)$\n",
        "- 运行逻辑与Dijkstra基本一致，除了排序函数:根据$C^*(x')+\\hat G^*(x')$，即从起点到终点的最优代价的估计值。\n",
        "- 估计值越接近真值，越利于搜索，当$\\hat G^* =0$时，退化为Dijkstra"
      ]
    },
    {
      "cell_type": "markdown",
      "metadata": {
        "id": "54JOfBYE1mFB"
      },
      "source": [
        "##### 最佳优先（best-first search）\n",
        "- 按照最优尚需代价的估计值进行排序\n",
        "- 得到解不一定是最优的\n",
        "- 能够加速运算，但是经常非常“贪婪”，会偏爱那些在搜索中\"看起来好的\"状态\n"
      ]
    },
    {
      "cell_type": "markdown",
      "metadata": {
        "id": "aT_vtTY2-FkF"
      },
      "source": [
        "##### 迭代深化\n",
        "- 搜索树有大量的分支时（下一层比上一层有更多的顶点）\n",
        "- 将深度优先搜索转为一种系统的搜索方法，寻找所有与起点距离在迭代值以内的状态\n",
        "- 相比广度优先搜索在最坏情况下性能要略好\n",
        "- 与A\\*思路结合可以产生IDA\\*算法"
      ]
    },
    {
      "cell_type": "markdown",
      "metadata": {
        "id": "yLdgjDvP5JqH"
      },
      "source": [
        "#### 2.2.3 其他方案"
      ]
    },
    {
      "cell_type": "markdown",
      "metadata": {
        "id": "VsjW1LkJ5QL9"
      },
      "source": [
        "##### 后向搜索\n",
        "\n",
        "\n",
        "```\n",
        "Backward \n",
        "Q.insert(x_g) and mark x_g as visited\n",
        "while Q is not empty:\n",
        "  x' = Q.get_first()\n",
        "  if x' = x_i:\n",
        "    return Success\n",
        "  for u^ in U^(-1)(x):\n",
        "    x = f^(-1)(x',u^)\n",
        "    if x not in visited:\n",
        "      mark x as visited\n",
        "      Q.insert(x)\n",
        "    else:\n",
        "      Resolve duplicate x\n",
        "return Failure \n",
        "```\n",
        "\n",
        "\n",
        "\n"
      ]
    },
    {
      "cell_type": "markdown",
      "metadata": {
        "id": "X-e9A8S7-bRr"
      },
      "source": [
        "##### 双向搜索\n",
        "\n",
        "\n",
        "```\n",
        "BiDirectional\n",
        "QI.insert(x_i) and mark x_i as visited\n",
        "QG.insert(x_g) and mark x_g as visited\n",
        "while QI not empty and QG not empty:\n",
        "  if QI not empty:\n",
        "    x ← QI.GetFirst()\n",
        "    if x in visited from x_g:\n",
        "      return SUCCESS\n",
        "    forall u ∈ U(x):\n",
        "      x′ ← f(x, u)\n",
        "      if x′ not visited:\n",
        "        Mark x′ as visited\n",
        "        QI.insert(x′)\n",
        "      else:\n",
        "        Resolve duplicate x′\n",
        "  if QG not empty:\n",
        "    x′ ← QG.GetFirst()\n",
        "    if x′in visited from x_i:\n",
        "      return SUCCESS\n",
        "    forall u^ ∈ U^(−1)(x'):\n",
        "      x ← f^(−1)(x',u^)\n",
        "      if x not visited:\n",
        "        Mark x as visited\n",
        "        QG.Insert(x)\n",
        "      else:\n",
        "        Resolve duplicate x\n",
        "return FAILUR\n",
        "```\n",
        "\n"
      ]
    },
    {
      "cell_type": "markdown",
      "metadata": {
        "id": "0o-iI6LDDNF9"
      },
      "source": [
        "### 2.3 离散最优规划\n",
        "- 从三个方面进行扩展：\n",
        "  - 用一个阶段索引来指示当前的规划步\n",
        "  - 引入一个代价泛函，指示在执行过程中累积的代价\n",
        "  - 引入一个终止，指示何时终止规划\n",
        "- 几乎所有的问题都可以用最小化或者最大化来定义性能指标\n",
        "- 新增符号表示：\n",
        "  - $\\pi_k$表示K步规划\n",
        "  - K是一个规划的准确长度($u_1,...,u_k)$\n",
        "  - L表示K步规划的代价泛函，F代表最后一个阶段$F=K+1$\n",
        "  - $L(\\pi_k)=\\sum^k_{k=1} l(x_k,u_k)+l_F(x_F) $\n",
        "  - $l_F$取决于是否达到目标，达到为0，否则为无穷\n",
        "  - 通过定义$l_F$将可行性约束转换为直接地优化\n",
        "  \n"
      ]
    },
    {
      "cell_type": "markdown",
      "metadata": {
        "id": "WdgPgKtcHnFg"
      },
      "source": [
        "#### 2.3.1 最优定长规划(固定长度最优路径）\n",
        "- 最优性原则导致——值迭代算法(value iteration)\n",
        "- 采用迭代方法在状态空间上计算最优尚需代价（或已付代价）函数，特殊情况下演变为Dijkstra算法。"
      ]
    },
    {
      "cell_type": "markdown",
      "metadata": {
        "id": "w4U7sOzC-1DC"
      },
      "source": [
        "##### 后向值迭代\n",
        "- 寻找所有初始状态开始的最优规划\n",
        "- 从短的最优规划中产生长的最优规划的关键在于在X上构造最优尚需代价函数。\n",
        "- 第$1 \\to F$中的第k步，令$G^*_k$表示在最优规划执行过程中从$k \\to F$的累积代价（后向）\n",
        "- 第一次迭代时，$G^*_F=l_F(x_F)=G^*_F(f(x_K,u_K))$（由于没有行动，立即能够得到最后阶段的代价）\n",
        "- 第二次迭代时，$G^*_K = \\min_{u_K} \\{l(x_K,u_K) +l_F(x_F)\\}$，对每一个状态$x_K$进行计算，计算了从$K到F=K+1$的最优规划\n",
        "- 根据流程得到递归表达式\n",
        " $$G^*_k(x_k) = \\min_{u_k} \\{l(x_k,u_k)+G^*_{k+1}(x_{k+1}) \\}$$\n",
        "- 这种方式需要保存每个阶段、每个状态下满足递归式最小化的行动，需要$O(K|X|)$存储空间\n"
      ]
    },
    {
      "cell_type": "markdown",
      "metadata": {
        "id": "ujfVdb1GGrh2"
      },
      "source": [
        "##### 例2.3 五状态最优规划\n",
        "- 问题描述：\n",
        "  - ![有向图](http://lavalle.pl/planning/img420.gif)\n",
        "  - $X=\\{a,b,c,d,e\\},k=4,x_I =a,X_G=d$\n",
        "  - $a\\to a =2;a\\to b =2;b\\to c =1;b\\to d =4;c\\to a =1;c\\to d =1;d\\to c=1;\n",
        "  d\\to e =1$\n",
        "\n",
        "- 尚需代价函数\n",
        "\n",
        "|  | a | b | c | d | e |\n",
        "|:--:|:--:|:--:|:--:|:--:|:--:|\n",
        "|$G^*_5$|$\\infty$|$\\infty$|$\\infty$|0|$\\infty$|\n",
        "|$G^*_4$|$\\infty$|4|1|$\\infty$|$\\infty$|\n",
        "|$G^*_3$|6|2|$\\infty$|2|$\\infty$|\n",
        "|$G^*_2$|4|6|3|$\\infty$|$\\infty$|\n",
        "|$G^*_1$|6|4|5|4|$\\infty$|\n",
        "\n",
        "- 简单说明\n",
        "  - G5对应最目标d，代价0\n",
        "  - G4对应一步能够到d的b和c，分别为4和1，此时d为无穷，因为d不存在自回环\n",
        "  - G3对应能够两步到d，即能够一步到b和c的a，b，d\n",
        "  - 以此类推，得到最终结果，由于初始状态为a，则定步长条件下的代价为6"
      ]
    },
    {
      "cell_type": "markdown",
      "metadata": {
        "id": "FvD0HD6FMYhY"
      },
      "source": [
        "##### 前向值迭代\n",
        "- 寻找到达X中所有状态的最优规划\n",
        "- 定义$C^*_K$为从1到k的最优已付代价\n",
        "- 迭代表达式\n",
        "$$C^*_k(x_k) = \\min_{u_k^{-1}} \\{C^*_{k-1}(x_{k-1})+l(x_{k-1},u_{k-1}) \\}$$\n",
        "- 针对例2.3计算最优已付代价\n",
        "\n",
        "|  | a | b | c | d | e |\n",
        "|:--:|:--:|:--:|:--:|:--:|:--:|\n",
        "|$C^*_1$|0|$\\infty$|$\\infty$|$\\infty$|$\\infty$|\n",
        "|$C^*_2$|2|2|$\\infty$|$\\infty$|$\\infty$|\n",
        "|$C^*_3$|4|4|3|$\\infty$|$\\infty$|\n",
        "|$C^*_4$|4|6|5|4|7|\n",
        "|$C^*_5$|6|6|5|6|5|\n",
        "\n"
      ]
    },
    {
      "cell_type": "markdown",
      "metadata": {
        "id": "JxSIP814sjbw"
      },
      "source": [
        "#### 2.3.2 变长度最优规划\n",
        "- 不定义K的值，因此L的定义域非常大\n",
        "- 在$U(x)$中包含一个特殊终止行动$u_T$，如果$u_k=u_T$，那么该行动将永远重复继续，状态不会变化，代价不会累积。\n",
        "- 即对所有$i \\geq k,u_i =u_T,x_i =x_k,l(x_i,u_T)=0$\n",
        "- 后向迭代：找到所有能够达到$X_G$的状态和最优代价\n",
        "$$u^* = {\\arg\\min}_{u \\in U(x)} \\{ l(x,u)+G^*(f(x,u))\\}$$\n",
        "- 前向迭代：找到从$x_I$出发能达到的状态和最优代价\n",
        "$${\\arg\\min}_{u^{-1} \\in U^{-1}} \\{ C^*(f^{-1}(x,u^{-1}))+l(f^{-1}(x,u^{-1}),u')\\}$$"
      ]
    },
    {
      "cell_type": "markdown",
      "metadata": {
        "id": "M3cEMAWbKsSk"
      },
      "source": [
        "##### 例2.5 可变长度值迭代\n",
        "- 根据新规则绘制有向图  \n",
        "![带终止条件](http://lavalle.pl/planning/img494.gif)\n",
        "- 后向迭代\n",
        "\n",
        "|  | a | b | c | d | e |\n",
        "|:--:|:--:|:--:|:--:|:--:|:--:|\n",
        "|$G^*0$|$\\infty$|$\\infty$|$\\infty$|0|$\\infty$|\n",
        "|$G^*_{-1}$|$\\infty$|4|1|0|$\\infty$|\n",
        "|$G^*_{-2}$|6|2|1|0|$\\infty$|\n",
        "|$G^*_{-3}$|4|2|1|0|$\\infty$|\n",
        "|$G^*_{-4}$|4|2|1|0|$\\infty$|\n",
        "|$G^*$|4|2|1|0|$\\infty$|\n",
        "\n",
        "- 前向迭代 假设$x_I=b$\n",
        "\n",
        "|  | a | b | c | d | e |\n",
        "|:--:|:--:|:--:|:--:|:--:|:--:|\n",
        "|$C^*_1$|$\\infty$|0|$\\infty$|$\\infty$|$\\infty$|\n",
        "|$C^*_2$|$\\infty$|0|1|4|$\\infty$|\n",
        "|$C^*_3$|2|0|1|2|5|\n",
        "|$C^*_4$|2|0|1|2|3|\n",
        "|$C^*$|2|0|1|2|3|\n",
        "\n"
      ]
    },
    {
      "cell_type": "markdown",
      "metadata": {
        "id": "Wl3D5JacNZAK"
      },
      "source": [
        "#### 2.3.3 再论Dijkstra算法\n",
        "- 值迭代：在整个状态空间上的重复计算\n",
        "- Dijkstra：在状态空间中只流动一次\n",
        "- 前向值迭代经过一些变化可以得到Dijkstra：\n",
        "  - 假设代价为非负\n",
        "  - 不可达状态：值无穷大 - 未访问（Unvisited）\n",
        "  - 最优代价平稳（已达最优不再改变）- 不活动的（dead）\n",
        "  - Q队列中：代价为有限但可能非最优\n",
        "- **研究值迭代的必要性**：\n",
        "  - 某些问题维持排序的队列很expensive\n",
        "  - 值迭代更易扩展到更广泛的问题：连续状态空间，随机最优规划，动态对策平衡点等\n",
        "- 正确理解两种算法：确定在一个给定的问题中哪一种更合适\n",
        "- Dijkstra是label-correcting算法族中的一种，相比一般前向搜索算法的主要区别在于如果发现更好的已付代价，那么允许状态再次成为活动的。\n",
        "- label-correcting与标准前向搜索的另一个**重要的区别**在于使用目标状态的代价来删除一些候选路径，即代码第7行的if判断，因此只适用于单目标。经过适应性修改后能应用于多目标状态，但是性能会下降。\n",
        "\n",
        "```\n",
        "FORWARD_Label_Correcting(x_G):\n",
        "  set C(s) = 10^5 for all x!=x_i \n",
        "  C(x_i) = 0\n",
        "  Q.insert(x_i)\n",
        "  while Q not empty:\n",
        "    x =Q.getfirst()\n",
        "    for u in U(x)\n",
        "      x' = f(x,u)\n",
        "      if C(x) +l(x,u) <min{C(x'),C(x_G)}\n",
        "        % pointer x -> x'\n",
        "        C(x') = C(x) +l(x,u)\n",
        "        if(x' != x_G)\n",
        "          Q.insert(x')\n",
        "```"
      ]
    },
    {
      "cell_type": "markdown",
      "metadata": {
        "id": "864uKkuNWUHr"
      },
      "source": [
        "### 2.4 用逻辑来表示离散规划\n",
        "- 构造离散规划的隐式表示，对于庞大的状态空间不必全部探索\n",
        "- 能够很好地进行压缩，输出结果阐述了到达目标的步骤\n",
        "- 但是很难进行一般化\n"
      ]
    },
    {
      "cell_type": "markdown",
      "metadata": {
        "id": "LL4fcKQBbFqD"
      },
      "source": [
        "#### 2.4.1 类似STRIPS的表示\n",
        "- 最常见的逻辑表示\n",
        "- 一个有限、非空个体（instance）集合I\n",
        "- 一个有限、非空谓词（predicates）集合P\n",
        "- 一个有限、非空算子集合O\n",
        "- 初始集合S：正文字的一个集合\n",
        "- 目标集合G：正文字和负文字的一个集合\n",
        "- 正文字（positive literal）：谓词应用于个体的一个特定集合\n",
        "- 负文字（negative literal）：正文字逻辑取反\n",
        "- 互补对：表示正文字与其对应负文字"
      ]
    },
    {
      "cell_type": "markdown",
      "metadata": {
        "id": "RHkF-8zGojJo"
      },
      "source": [
        "##### 例2.6 电池放入手电筒\n",
        "- 实例分析上述抽象概念\n",
        "- 问题：手电筒需要两节电池\n",
        "- 个体：$I =\\{Battery1,Battery2,Cap,Flashlight \\}$\n",
        "- 谓词：$On,In$:On只用来评价Cap是否在Flashlight上，记为$On(Cap,Flashlight)$\n",
        "- In有两种应用方式：$In(Battery1,Flashlight),In(Battery2,Flashlight)$\n",
        "- 谓词只是部分函数，可能不希望任何个体都成为谓词的变元\n",
        "- 初始集合$S=\\{On(Cap,Flashlight) \\}$，基于S，假设$\\neg In(Battery1,Flashlight),\\neg In(Battery2,Flashlight)$成立。因此初始状态为后盖在手电筒上，电池在外面。\n",
        "- S是正文字的集合，负文字是隐含的，任何不在S中的正文字，假设初始对应负文字成立\n",
        "- 目标状态：$G= \\{ On(Cap,Flashlight),In(Battery1,Flashlight),In(Battery2,Flashlight) \\}$\n",
        "- 算子集合   \n",
        "![Operation](http://lavalle.pl/planning/img532.gif)\n",
        "- 规划结果：$(RemoveCap,Insert(Battery1),Insert(Battery2),Place(Cap)$\n",
        "- 采用逻辑表达的规划存在大量的复杂结果。\n"
      ]
    },
    {
      "cell_type": "markdown",
      "metadata": {
        "id": "UItQTavGesqc"
      },
      "source": [
        "#### 2.4.2 转换到状态空间表示\n",
        "- 能够帮助修改搜索方法\n",
        "- 假设每个谓词有k个变元，任何个体都能够出现在每个变元中，即存在着$|P|I|^k$个互补对，对应于将个体代入所有谓词的所有变元。\n",
        "- 为了表示状态，必须从每个互补对中选择一个正文字或负文字，通过给个体和谓词安排一个线性顺序，将组合编码为二进制串。\n",
        "- 在例2.6中给定如下状态$(On(Cap,Flashlight),\\neg In(Battery1,Flashlight),In(Battery2,Flashlight))$，用0代表负文字，1代表正文字，此状态可表示为$x =101$\n",
        "- 能够区分所有可能状态的综述对应可能的比特串的集合，长度为$2^{|P|I|^k}$\n",
        "- 将初始状态$x_I$编码，目标集合$X_G$是与正目标文字和负目标文字相一致的集合\n",
        "- 对每一个状态，$U(x)$表示满足前提条件的算子的集合"
      ]
    },
    {
      "cell_type": "markdown",
      "metadata": {
        "id": "_3aV7NDq-NIJ"
      },
      "source": [
        "### 2.5 基于逻辑的规划方法\n",
        "- 描述的方法在保持问题的完整性的同时试图减小实际搜索复杂性\n",
        "- 不同的方法在不同的应用场合性能会有不同的表现"
      ]
    },
    {
      "cell_type": "markdown",
      "metadata": {
        "id": "1lxRCi-a-rmK"
      },
      "source": [
        "#### 2.5.1 部分规划空间中的搜索\n",
        "- 除了直接在X中进行搜索之外，可选的另外一种方法时构造部分规划\n",
        "- 在部分规划中迭代完成所需要的的子目标，并保证没有影响求解的冲突发生\n",
        "- 部分规划（partial plan）$\\sigma$的定义\n",
        "  - 需要应用的算子的合集$O_\\sigma$（如果算子包含变量，那么这些变量可以被赋予特定的值或者只作为变量）\n",
        "  - $O_\\sigma$上的一个偏序关系$\\prec_\\sigma$，指定算子的逻辑顺序\n",
        "  - 一个绑定约束集$B_\\sigma$，指示算子间的某些变量必须有相同的值\n",
        "  - 一个因果关系集$C_\\sigma$，具有$(o_1,l,o_2)$的形式，表示为满足2的一个前提条件（1完成l）\n",
        "- 例2.7 在上述手电筒的例子中，一个部分规划表示为\n",
        "  - $O_\\sigma = \\{RemoveCap,Insert(Battery1)\\}$\n",
        "  - $RemoveCap \\prec_\\sigma Insert(Battery1)$\n",
        "  - 因果关联C:$(RemoveCap,\\neg On(Cap,Flashlight),Insert(Battery1))$\n",
        "- Place-Space 规划\n",
        "  - 从任意初始部分规划$\\sigma$开始\n",
        "  - 发现$\\sigma$的一个缺陷，可能是\n",
        "    - 没有实现的一个算子前提条件\n",
        "    - $O_\\sigma$中的一个威胁到$C_\\sigma$中某个因果约束的孙子\n",
        "    - 如果没有缺陷则为一个完整解，并计算满足所有约束的$O_\\sigma$的线性排列\n",
        "    - 如果缺陷是未实现的前提条件l，发现一个能够实现它的算子并记录为新的因果约束\n",
        "    - 如果缺陷是对因果关联的威胁，那个通过更新$\\prec_\\sigma$来诱导产生一个合适的算子排序，或者更新$B_\\sigma$\n",
        "    - 返回第二步\n",
        "  - 通过将一个部分规划延伸到另外一个离完成任务更近的部分规划来构造搜索图的边\n",
        "  - 模板简单，但是依赖于初始规划的选择以及每次解决缺陷的方式"
      ]
    },
    {
      "cell_type": "markdown",
      "metadata": {
        "id": "xod7KTB_h7l2"
      },
      "source": [
        "#### 2.5.2 建立规划图（planning graph）\n",
        "- 引入规划图-数据结构，对哪些状态可达进行编码\n",
        "- 从初始状态采用广度优先搜索（队列）\n",
        "- 边L与算子O交替构成一个分层图（layered graph）\n",
        "- $l_i 是o_{i-1}的结果，是o_i$的前提，算子中不包含变量\n",
        "- 初始层包含S中的每个状态，不在S中的状态取反后也放入第一层$L_1$\n",
        "- 构造平凡算子使得状态得以保持\n",
        "- 手电筒的规划图  \n",
        "![规划图](http://lavalle.pl/planning/img575.gif)\n",
        "- $L_4 =L_3 ;0_4 =O_3$规划图稳定\n"
      ]
    },
    {
      "cell_type": "markdown",
      "metadata": {
        "id": "g5XbGMlstzDp"
      },
      "source": [
        "#### 2.5.3 满足性规划\n",
        "- 将规划问题转换成一个庞大的布尔满足性问题\n",
        "- 通过确定对于产生TRUE值的表达式，变量是否有可能赋某个值"
      ]
    },
    {
      "cell_type": "markdown",
      "metadata": {
        "id": "BQev0k5XuotY"
      },
      "source": [
        "# 运动规划"
      ]
    },
    {
      "cell_type": "markdown",
      "metadata": {
        "id": "rxL3etvwutGB"
      },
      "source": [
        "## 几何表示与变换"
      ]
    },
    {
      "cell_type": "markdown",
      "metadata": {
        "id": "1b44z8IfvdVJ"
      },
      "source": [
        "### 3.1 几何建模"
      ]
    },
    {
      "cell_type": "markdown",
      "metadata": {
        "id": "cKjlhNYpvecE"
      },
      "source": [
        "- 两种主要的建模表示方式\n",
        "  - 边界表示：与表面大体一致的方程\n",
        "  - 实体表示：包含实体中每个点的点集\n",
        "- 定义世界$\\mathcal W$\n",
        "  - 二维世界 $\\mathcal W= \\mathbb R^2$\n",
        "  - 三维世界 $\\mathcal W= \\mathbb R^3$\n",
        "  - 包含两部分\n",
        "    - 障碍物：不能通行的位置\n",
        "    - 机器人：通过运动规划进行控制的物体\n",
        "  - 障碍物和机器人都是$\\mathcal W$的（闭）子集\n",
        "\n",
        "  "
      ]
    },
    {
      "cell_type": "markdown",
      "metadata": {
        "id": "9JXh4ROfYlD9"
      },
      "source": [
        "#### 3.1.1 多边形与多面体模型\n",
        "- 多边形模型\n",
        "  - 边界由两个要素定义：顶点、边\n",
        "- 用本原的组合来进行障碍区域$\\mathcal O$的实体表示，用本原的有限数量的并集、交集、集差来定义\n",
        "- 每个本原$H_i$代表$\\mathcal W$的一个子集，一个复杂的障碍区域用有限个本源的布尔组合表示\n",
        "- 凸多边形\n",
        "  - 点集中任意两点连线上的点都在点集的内部\n",
        "  $\\lambda x_1 +(1-\\lambda)x_2 \\in X$\n",
        "  - $H_i=\\{(x,y)\\in \\mathcal W|f_i(x,y) \\leq 0 \\}$描述线$f_i(x,y)=0$的一侧所有点的集合的一个本原（多项式各项前系数的最大公约数为1）\n",
        "  - $\\mathcal O = H_1 \\cap H_2 \\cap ... \\cap H_m $\n",
        "- 非凸多边形\n",
        "  - $\\mathcal O = \\mathcal O_1 \\cap ... \\cap \\mathcal O_n$\n",
        "- 定义逻辑谓词\n",
        "  - $\\phi$ 对应$\\mathcal W \\to \\{TRUE,FALSE\\} $，如果$\\mathcal W$中的点在$\\mathcal O$中，返TRUE。\n",
        "  - $e(x,y)$如果$f(x,y)< 0$则返回TRUE；否则返回FALSE\n",
        "  - 凸多边形对应的谓词表示$\\alpha (x,y) = e_1(x,y) \\wedge ... \\wedge e_m(x,y)$\n",
        "  - n个凸多边形组成的逻辑区域表示为$\\phi(x,y) = \\alpha_1(x,y) \\vee ...\\vee \\alpha_n(x,y)$\n",
        "\n",
        "- 多面体模型\n",
        "  - 边界由三个要素定义：顶点、边、面\n",
        "  - 顶点记录点的坐标以及指向任意与该顶点有接触的半边的指针\n",
        "  - 半边是一条有向边\n",
        "  - 每个面记录包含一个在它的边界上指向任意半边的指针（每个面由半边的循环列表构成）\n",
        "  - 多面体的每条边都有一个有向半边记录的对  \n",
        "  ![polyhedron](http://lavalle.pl/planning/img687.gif)\n"
      ]
    },
    {
      "cell_type": "markdown",
      "metadata": {
        "id": "xfEaiSoAlpkP"
      },
      "source": [
        "#### 3.1.2 半代数模型\n",
        "- 由单个多项式本原确定的点集称为“代数集合”\n",
        "- 由代数集合的有限的交并构成的点集称为半代数集"
      ]
    },
    {
      "cell_type": "markdown",
      "metadata": {
        "id": "8GZTkSRCrDe5"
      },
      "source": [
        "#### 3.1.3 其他模型\n",
        "- 顶点按顺序编码，两点组成一个有向边，左边对应多边形内部，右边对应内部中空\n",
        "- 图形学中，加速使用的是三角形，使用三角形组合成几何模型\n",
        "- 不一致有理数B样条：在工程设计系统中应用较多，可以方便对曲面进行调整和设计\n",
        "- 位图：将有限空间离散成矩形胞腔（单元），可以看作二值图，0表示不包含任何障碍区域的点。可以扩展成灰度图，在每个单元用数值表示一些事件的概率\n",
        "- 超二次曲面\n",
        "- 广义圆柱"
      ]
    },
    {
      "cell_type": "markdown",
      "metadata": {
        "id": "3Me9cX7Qs75h"
      },
      "source": [
        "### 3.2 刚体变换\n",
        "- 令$\\mathcal A$表示机器人\n",
        "- $\\mathcal O$在$\\mathcal W$中固定\n",
        "- $\\mathcal A$在$\\mathcal W$中运动"
      ]
    },
    {
      "cell_type": "markdown",
      "metadata": {
        "id": "QEm8z9F4taBa"
      },
      "source": [
        "#### 3.2.1 一般概念\n",
        "- 刚体变换$h:\\mathcal A \\to \\mathcal W$，将机器人中的每一点映射到世界内\n",
        "- 对于$a \\in \\mathcal A$，$h(a)$表示$\\mathcal W$中被a占据的点\n",
        "  $$h(\\mathcal A) = \\{h(a)\\in \\mathcal W | a\\in \\mathcal A\\}$$\n",
        "- 当模型用本原表示时，命名$w \\in \\mathcal W$，\n",
        "$H(i) = \\{ a \\in \\mathbb R | f_i(a) \\leq 0 \\}$ \n",
        "$h(H_i) = \\{w \\in \\mathcal W|f_i(h^{-1}(w)) \\leq 0 \\} $\n",
        "- 参数的变换族\n",
        "  - 参数向量q\n",
        "  - 点a\n",
        "  - $h(q,a) \\to a(q)$\n",
        "- 坐标系\n",
        "  - $\\mathcal W$的原点和坐标基定义为世界坐标系\n",
        "  - $\\mathcal A$最初是在机体系下表达的"
      ]
    },
    {
      "cell_type": "markdown",
      "metadata": {
        "id": "gcP3Mg0XwZ70"
      },
      "source": [
        "#### 3.2.2 二维变换\n",
        "- 平移\n",
        "  - $h(x,y) = (x+x_t,y+y_t)$,序列中的每个点$(x_i,y_i)$用$(x_i,y_i)$替代，得到变换后的表示\n",
        "  $$h(H_i） = \\{(x,y) \\in \\mathcal W |f(x-x_t,y-y_t)\\leq 0\\}$$\n",
        "- 旋转 \n",
        "  - $ R(\\theta) = \\begin{pmatrix} \\cos \\theta & -\\sin \\theta \\\\ \\sin\\theta &\\cos \\theta \\end{pmatrix}$\n",
        "- 组合变换\n",
        "  - $ T= \\begin{pmatrix} \\cos \\theta & -\\sin \\theta & x_t \\\\ \\sin\\theta &\\cos \\theta &y_t \\\\ 0&0&1 \\end{pmatrix}$\n",
        "  - 变换后的机器人可以用$\\mathcal A(x_t,y_t,\\theta)$表示"
      ]
    },
    {
      "cell_type": "markdown",
      "metadata": {
        "id": "DI8QZkBC17Ic"
      },
      "source": [
        "#### 3.2.3 三维变换\n",
        "- 平移\n",
        "  - $h(x,y,z) = (x+x_t,y+y_t,z+z_t)$\n",
        "- 偏航、俯仰、滚转（欧拉旋转）\n",
        "  - 偏航z轴\n",
        "  $ R= \\begin{pmatrix} \\cos \\alpha & -\\sin \\alpha & 0 \\\\ \\sin\\alpha &\\cos \\alpha &0 \\\\ 0&0&1 \\end{pmatrix}$\n",
        "  - 俯仰y轴$ R= \\begin{pmatrix} \\cos \\beta & 0 & \\sin \\beta  \\\\ 0&1&0 \\\\ -\\sin\\beta &0&\\cos \\beta  \\end{pmatrix}$\n",
        "  - 滚转x轴$ R= \\begin{pmatrix}   1&0&0\\\\ 0& \\cos \\gamma & -\\sin \\gamma  \\\\ 0& \\sin\\gamma &\\cos \\gamma  \\end{pmatrix}$\n",
        "  - $R(\\alpha,\\beta,\\gamma)$，先滚转，后俯仰，最后偏航\n",
        "- 任意旋转矩阵恢复欧拉角\n",
        "  $$\\alpha = atan2(r_{11},r_{21}) \\\\ \n",
        "  \\beta = atan2(\\sqrt{r_{32}^2+r_{33}^2},-r_{31}\\\\\n",
        "  \\gamma = atan2(r_{32},r_{33}) $$"
      ]
    },
    {
      "cell_type": "markdown",
      "metadata": {
        "id": "YykSbv9U4cn8"
      },
      "source": [
        "### 3.3 物体运动链变换"
      ]
    },
    {
      "cell_type": "markdown",
      "metadata": {
        "id": "pw7A_ruPqLYz"
      },
      "source": [
        "#### 3.3.1 二维运动链\n",
        "![two types](http://lavalle.pl/planning/img853.gif)\n",
        "= 刚体在运动链中连接后，自由度会降低\n",
        "- 对于旋转关节，一个连杆关于另一个连杆只能旋转 \n",
        "- 对于滑动关节，一个连杆只能沿另一个连杆滑动\n",
        "- 每种关节减少两个自由度\n",
        "- 比如例子中的旋转关节，只有四个自由度$x_1,y_1,\\theta_1,\\theta_2$\n",
        "- 每个独立连杆的体坐标系的原点都选择在$\\mathcal A ,\\mathcal A_i$之间的关节上，体系的x轴沿着刚体的方向\n",
        "- $\\mathcal A_i$的原点在$\\mathcal A$的坐标系位置的变换矩阵$\\alpha$是距离，$\\theta$是方向差\n",
        "$$T_i= \\begin{bmatrix}\\cos\\theta_i &-\\sin\\theta_i &\\alpha_{i-1} \\\\ \\sin\\theta_i &\\cos\\theta_i &0 \\\\ 0&0&1 \\end{bmatrix} $$\n",
        "- 任一点在$\\mathcal W$的位置可以通过连乘变换矩阵得到$T_1T_2...T_m[x,y,1]^T$\n"
      ]
    },
    {
      "cell_type": "markdown",
      "metadata": {
        "id": "ycJefasTvmJ6"
      },
      "source": [
        "#### 3.3.2 三维运动链\n",
        "- 相比于二维，情况和选择更为复杂\n",
        "- 但是整体思路还是可以沿用的\n",
        "  - 仔细选择$\\mathcal A_i$的体坐标系\n",
        "  - 基于关节的位置，给定位置和角度参数\n",
        "  - 定义一个变换矩阵\n",
        "  - $\\mathcal A_m$中点的坐标通过连乘变换矩阵得到\n",
        "- 一般三维的旋转轴都是斜线\n",
        "- 用$z_i$表示连接的旋转关节的旋转轴$x_i$表示连接两个相邻旋转轴的最短垂线，右手系确定$y_i$\n",
        "- 三维情况下变换矩阵需要四个参数：$d_i,\\theta_i,a_{i-1},\\alpha_{i-1}$，即Denavit-Hartenberg（DH）参数。\n",
        "  - $d_i$对应$x_{i-1}，x_i$在$z_i$上交点的有符号距离（跟随$z_i$轴的正负向）\n",
        "  - $\\theta_i$对应$x_{i-1} \\to x_{i}$方向的角度\n",
        "  - $a_{i-1}$是$z_{i-1}\\to z_{i}$轴之间的距离\n",
        "  - $\\alpha_{i-1}$是$z_{i-1}\\to z_{i}$轴之间的角度\n",
        "\n",
        "![DH para](http://lavalle.pl/planning/img883.gif)\n",
        "- 双螺旋体（关于同一个轴的旋转和平移的组合成为螺旋（类似螺钉上螺帽的运动））  \n",
        "$$R_i = \\begin{bmatrix}\\cos\\theta_i &-\\sin\\theta_i &0&0  \\\\ \\sin\\theta_i &\\cos\\theta_i &0 &0\\\\ 0&0&1&d_i \\\\ 0&0&0&1 \\end{bmatrix} $$\n",
        "  - 对应绕$z_i$旋转$\\theta_i$、沿$z_i$平移$d_i$ \n",
        "\n",
        "$${Q_{i-1}} = \\begin{bmatrix} 1&0&0&{a_{i-1}} \\\\ 0&\\cos{\\alpha_{i-1}} &-\\sin{\\alpha_{i-1}} &0  \\\\ 0& \\sin{\\alpha_{i-1}} &\\cos\\alpha_{i-1} &0 \\\\ 0&0&0&1\\end{bmatrix} $$\n",
        "  - 对应绕$x_{i-1}$轴的螺旋\n",
        "- 变换矩阵$T = R_i Q_{i-1}$完成四步运算\n",
        "  - 沿$z_i$平移$d_i$\n",
        "  - 绕$z_i$逆时针旋转$\\theta_i$\n",
        "  - 沿${x_{i-1}}$轴平移$a_{i-1}$\n",
        "  - 绕${x_{i-1}}$轴逆时针旋转$\\alpha_{i-1}$\n",
        "- 第一个变换矩阵$T_1$有6个自由度，就是完成的三维变换矩阵\n",
        "- 经典的PUMA560机械臂为例\n",
        "\n",
        "![puma](http://lavalle.pl/planning/img895.gif)  \n",
        "![DH params](http://lavalle.pl/planning/img896.gif)"
      ]
    },
    {
      "cell_type": "markdown",
      "metadata": {
        "id": "Cd58xCYZ7NnB"
      },
      "source": [
        "### 3.4 运动树的变换\n"
      ]
    },
    {
      "cell_type": "markdown",
      "metadata": {
        "id": "zn8f37kD7WjC"
      },
      "source": [
        "- 目的\n",
        "  - 连杆组成“树”，没有连成环，比如关节和四肢连在躯干上\n",
        "  - 关节有旋转关节和球关节\n",
        "  - 可以帮助在动画和虚拟环境中开发人型组件\n",
        "  - 帮助生物化学分析分子结构\n",
        "- 公共关节\n",
        "  - 最简单的例子，有连杆的二维树\n",
        "  - 多于两个旋转轴的联结（有超过两个关节的连杆）  \n",
        "  ![](http://lavalle.pl/planning/img923.gif)\n",
        "  - 如果只有一个联结，可以将其定为根，例如人体的躯干\n",
        "  - 假设多个联结，在其中一个联结上定义的体坐标系有多种方法，一个链采用一种方法\n",
        "- 约束参数  \n",
        "![constraining param](http://lavalle.pl/planning/img934.gif)\n",
        "  - 假设将$\\theta_{7u}$作为独立变量，必须选择$\\theta_{7u} = \\theta_{7l} +\\phi$\n",
        "  - 就是将联结上的变换矩阵之间的角度形成约束\n",
        "- 环形情况\n",
        "  - 闭运动链：难以确定哪些参数值在其可接受范围内确保环的封闭\n",
        "  - 如果能够确定参数范围，就能将闭环分解成两个树来进行变换\n",
        "  - 然后使两个链的尾点坐标相等，得到一个非线性三角方程\n",
        "  - 多数涉及环路的问题，得不到解集的合适参数表示，是著名的逆运动问题的一种形式\n",
        "- 一般情况\n",
        "  - 复杂的连杆排列可以想象为存在多个环路\n",
        "  - 每忽略（断开）一个环路的关节就减少一个环路\n",
        "  - 直到不存在环路为止\n",
        "  - 每一个被断开的关节都能写出一个链路变换等式\n",
        "  "
      ]
    },
    {
      "cell_type": "markdown",
      "metadata": {
        "id": "uW63aMTsCC-r"
      },
      "source": [
        "### 3.5 非刚体的变换"
      ]
    },
    {
      "cell_type": "markdown",
      "metadata": {
        "id": "_M8BFxK5CF56"
      },
      "source": [
        "- 其余变换\n",
        "  - 在x轴和y轴放大倍数不同\n",
        "  - 仿射变换\n",
        "- 柔性材料\n",
        "  - 弯曲一个柔性材料，比如使床垫弯成拱门\n",
        "  - 往往可以采用参数化的曲线或者曲面\n",
        "  - 样条模型是最合适的，因为它们通过调整较小数量的参数来实现曲线形状的控制。"
      ]
    },
    {
      "cell_type": "markdown",
      "metadata": {
        "id": "9fgea4D5DK-7"
      },
      "source": [
        "## 位行空间"
      ]
    },
    {
      "cell_type": "markdown",
      "metadata": {
        "id": "a94aXNiODPbK"
      },
      "source": [
        ""
      ]
    }
  ]
}